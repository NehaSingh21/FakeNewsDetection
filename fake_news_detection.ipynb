{
 "cells": [
  {
   "cell_type": "code",
   "execution_count": 66,
   "metadata": {},
   "outputs": [],
   "source": [
    "%matplotlib inline\n",
    "import pandas as pd\n",
    "import numpy as np\n",
    "from collections import Counter\n",
    "import matplotlib as mpl\n",
    "import matplotlib.pyplot as plt\n",
    "import scikitplot as skplt\n",
    "\n",
    "import nltk\n",
    "from nltk.corpus import stopwords\n",
    "\n",
    "import en_core_web_sm\n",
    "nlp = en_core_web_sm.load()\n",
    "\n",
    "import seaborn as sb\n",
    "\n",
    "import gensim\n",
    "import gensim.corpora as corpora\n",
    "from gensim.utils import simple_preprocess\n",
    "from gensim.models.doc2vec import TaggedDocument \n",
    "from gensim.models import Doc2Vec\n",
    "import logging\n",
    "logging.basicConfig(format='%(asctime)s : %(levelname)s : %(message)s', level=logging.INFO)\n",
    "\n",
    "from sklearn.model_selection import train_test_split\n",
    "from sklearn.naive_bayes import BernoulliNB\n",
    "from sklearn.feature_extraction.text import CountVectorizer\n",
    "from sklearn.linear_model import LogisticRegression\n",
    "from sklearn import svm\n",
    "\n",
    "import tensorflow as tf\n",
    "\n",
    "plt.style.use('seaborn')\n",
    "\n",
    "from datetime import datetime\n",
    "import pytz\n",
    "import time\n",
    "\n",
    "import os\n",
    "import pickle"
   ]
  },
  {
   "cell_type": "markdown",
   "metadata": {},
   "source": [
    "### Reading the data"
   ]
  },
  {
   "cell_type": "code",
   "execution_count": 3,
   "metadata": {},
   "outputs": [
    {
     "name": "stdout",
     "output_type": "stream",
     "text": [
      "Raw data read from 'raw_data.pkl'.\n"
     ]
    }
   ],
   "source": [
    "if os.path.isfile(\"data/raw_data.pkl\"): \n",
    "    with open(\"data/raw_data.pkl\", \"br\") as f:\n",
    "        raw_data = pickle.load(f)\n",
    "    print(\"Raw data read from 'raw_data.pkl'.\")\n",
    "else:\n",
    "    fake_news = pd.read_csv(\"data/fake.csv.zip\", parse_dates=['published'])\n",
    "    articles1 = pd.read_csv(\"data/articles1.csv.zip\")\n",
    "    articles2 = pd.read_csv(\"data/articles2.csv.zip\")\n",
    "    articles3 = pd.read_csv(\"data/articles3.csv.zip\")\n",
    "    \n",
    "    true_news = pd.concat([articles1, articles2, articles3])\n",
    "    true_news = true_news[['publication', 'title', 'author', 'content']]\n",
    "    true_news = true_news.loc[true_news.publication.isin(['New York Times'])]\n",
    "    true_news = true_news[['title', 'author', 'content']]\n",
    "    true_news['label'] = 0\n",
    "    \n",
    "    tz = pytz.timezone('America/Chicago')\n",
    "    fake_news = fake_news.loc[fake_news.language == 'english']\n",
    "    fake_news = fake_news.loc[fake_news.published > tz.localize(datetime.strptime('2016-11-01', '%Y-%m-%d'))]\n",
    "    fake_news = fake_news[['title', 'author', 'text']]\n",
    "    fake_news.rename(columns={'text':'content'}, inplace=True)\n",
    "    fake_news['label'] = 1\n",
    "    \n",
    "    raw_data = pd.concat([true_news, fake_news])\n",
    "    raw_data = raw_data.loc[(raw_data.title.isna() == False) & (raw_data.content.isna() == False)]\n",
    "    raw_data = raw_data.sample(frac=1).reset_index(drop=True)\n",
    "    \n",
    "    with open(\"data/raw_data.pkl\", \"bw\") as f:\n",
    "        pickle.dump(raw_data, f)\n",
    "    print(\"Raw data written to 'raw_data.pkl'.\")"
   ]
  },
  {
   "cell_type": "code",
   "execution_count": 4,
   "metadata": {},
   "outputs": [
    {
     "data": {
      "text/html": [
       "<div>\n",
       "<style scoped>\n",
       "    .dataframe tbody tr th:only-of-type {\n",
       "        vertical-align: middle;\n",
       "    }\n",
       "\n",
       "    .dataframe tbody tr th {\n",
       "        vertical-align: top;\n",
       "    }\n",
       "\n",
       "    .dataframe thead th {\n",
       "        text-align: right;\n",
       "    }\n",
       "</style>\n",
       "<table border=\"1\" class=\"dataframe\">\n",
       "  <thead>\n",
       "    <tr style=\"text-align: right;\">\n",
       "      <th></th>\n",
       "      <th>title</th>\n",
       "      <th>author</th>\n",
       "      <th>content</th>\n",
       "      <th>label</th>\n",
       "    </tr>\n",
       "  </thead>\n",
       "  <tbody>\n",
       "    <tr>\n",
       "      <td>0</td>\n",
       "      <td>John Kerry’s Trip to the South Pole: Nazi Root...</td>\n",
       "      <td>Author</td>\n",
       "      <td>Region: USA in the World So why did the US Sec...</td>\n",
       "      <td>1</td>\n",
       "    </tr>\n",
       "    <tr>\n",
       "      <td>1</td>\n",
       "      <td>John Kerry Is Said to Side With Diplomats’ Cri...</td>\n",
       "      <td>Mark Landler</td>\n",
       "      <td>WASHINGTON  —   For a cabinet member whose dep...</td>\n",
       "      <td>0</td>\n",
       "    </tr>\n",
       "    <tr>\n",
       "      <td>2</td>\n",
       "      <td>Tim Kaine Compares Donald Trump’s Comments on ...</td>\n",
       "      <td>Yamiche Alcindor</td>\n",
       "      <td>Senator Tim Kaine of Virginia on Sunday compar...</td>\n",
       "      <td>0</td>\n",
       "    </tr>\n",
       "    <tr>\n",
       "      <td>3</td>\n",
       "      <td>Revel in the Bounty of Spring, With a Feast Fr...</td>\n",
       "      <td>Sam Sifton</td>\n",
       "      <td>The first thing Yotam Ottolenghi did before he...</td>\n",
       "      <td>0</td>\n",
       "    </tr>\n",
       "    <tr>\n",
       "      <td>4</td>\n",
       "      <td>In Betsy DeVos for Education, Trump Taps Into ...</td>\n",
       "      <td>Vanessa Friedman, Maggie Haberman and Alan Rap...</td>\n",
       "      <td>Donald J. Trump has reached into Western Mic...</td>\n",
       "      <td>0</td>\n",
       "    </tr>\n",
       "  </tbody>\n",
       "</table>\n",
       "</div>"
      ],
      "text/plain": [
       "                                               title  \\\n",
       "0  John Kerry’s Trip to the South Pole: Nazi Root...   \n",
       "1  John Kerry Is Said to Side With Diplomats’ Cri...   \n",
       "2  Tim Kaine Compares Donald Trump’s Comments on ...   \n",
       "3  Revel in the Bounty of Spring, With a Feast Fr...   \n",
       "4  In Betsy DeVos for Education, Trump Taps Into ...   \n",
       "\n",
       "                                              author  \\\n",
       "0                                             Author   \n",
       "1                                       Mark Landler   \n",
       "2                                   Yamiche Alcindor   \n",
       "3                                         Sam Sifton   \n",
       "4  Vanessa Friedman, Maggie Haberman and Alan Rap...   \n",
       "\n",
       "                                             content  label  \n",
       "0  Region: USA in the World So why did the US Sec...      1  \n",
       "1  WASHINGTON  —   For a cabinet member whose dep...      0  \n",
       "2  Senator Tim Kaine of Virginia on Sunday compar...      0  \n",
       "3  The first thing Yotam Ottolenghi did before he...      0  \n",
       "4    Donald J. Trump has reached into Western Mic...      0  "
      ]
     },
     "execution_count": 4,
     "metadata": {},
     "output_type": "execute_result"
    }
   ],
   "source": [
    "raw_data.head()"
   ]
  },
  {
   "cell_type": "markdown",
   "metadata": {},
   "source": [
    "### Preprocessing"
   ]
  },
  {
   "cell_type": "code",
   "execution_count": 5,
   "metadata": {},
   "outputs": [],
   "source": [
    "stop_words = stopwords.words('english')\n",
    "\n",
    "def remove_stopwords(corpus):\n",
    "    corpus = [[word for word in simple_preprocess(doc, min_len=3, deacc=True) if word not in stop_words] for doc in corpus]\n",
    "    return [' '.join(word) for word in corpus]\n",
    "\n",
    "def lemmatize(corpus):\n",
    "    corpus = [[token.lemma_ for token in doc] for doc in nlp.pipe(corpus, batch_size=3000, n_threads=-1)]\n",
    "    return [' '.join(word) for word in corpus]"
   ]
  },
  {
   "cell_type": "code",
   "execution_count": 6,
   "metadata": {},
   "outputs": [
    {
     "name": "stdout",
     "output_type": "stream",
     "text": [
      "Preprocessed data read from 'preprocessed_data.pkl'.\n"
     ]
    }
   ],
   "source": [
    "time_ = datetime.now()\n",
    "if os.path.isfile(\"data/preprocessed_data.pkl\"): \n",
    "    with open(\"data/preprocessed_data.pkl\", \"br\") as f:\n",
    "        preprocessed_data = pickle.load(f)\n",
    "    print(\"Preprocessed data read from 'preprocessed_data.pkl'.\")\n",
    "    \n",
    "else:\n",
    "    preprocessed_data = pd.DataFrame(columns=['title', 'author', 'content'], index=raw_data.index)\n",
    "    \n",
    "    preprocessed_data['title'] = remove_stopwords(raw_data.title)\n",
    "    preprocessed_data['content'] = remove_stopwords(raw_data.content)\n",
    "    preprocessed_data['author'] = raw_data.author\n",
    "    preprocessed_data['label'] = raw_data.label\n",
    "    \n",
    "    preprocessed_data['title'] = lemmatize(preprocessed_data.title)\n",
    "    preprocessed_data['content'] = lemmatize(preprocessed_data.content)\n",
    "    \n",
    "    with open(\"data/preprocessed_data.pkl\", \"bw\") as f:\n",
    "        pickle.dump(preprocessed_data, f)\n",
    "    print(\"Preprocessed data written to 'preprocessed_data.pkl'.\")\n",
    "\n",
    "time_ = datetime.now() - time_"
   ]
  },
  {
   "cell_type": "code",
   "execution_count": 7,
   "metadata": {},
   "outputs": [
    {
     "data": {
      "text/plain": [
       "datetime.timedelta(microseconds=153930)"
      ]
     },
     "execution_count": 7,
     "metadata": {},
     "output_type": "execute_result"
    }
   ],
   "source": [
    "time_"
   ]
  },
  {
   "cell_type": "code",
   "execution_count": 7,
   "metadata": {},
   "outputs": [
    {
     "data": {
      "text/html": [
       "<div>\n",
       "<style scoped>\n",
       "    .dataframe tbody tr th:only-of-type {\n",
       "        vertical-align: middle;\n",
       "    }\n",
       "\n",
       "    .dataframe tbody tr th {\n",
       "        vertical-align: top;\n",
       "    }\n",
       "\n",
       "    .dataframe thead th {\n",
       "        text-align: right;\n",
       "    }\n",
       "</style>\n",
       "<table border=\"1\" class=\"dataframe\">\n",
       "  <thead>\n",
       "    <tr style=\"text-align: right;\">\n",
       "      <th></th>\n",
       "      <th>title</th>\n",
       "      <th>author</th>\n",
       "      <th>content</th>\n",
       "      <th>label</th>\n",
       "    </tr>\n",
       "  </thead>\n",
       "  <tbody>\n",
       "    <tr>\n",
       "      <td>0</td>\n",
       "      <td>john kerry trip south pole nazi root revisit n...</td>\n",
       "      <td>Author</td>\n",
       "      <td>region usa world secretary state john kerry go...</td>\n",
       "      <td>1</td>\n",
       "    </tr>\n",
       "    <tr>\n",
       "      <td>1</td>\n",
       "      <td>john kerry say side diplomat critical memo syr...</td>\n",
       "      <td>Mark Landler</td>\n",
       "      <td>washington cabinet member whose department eru...</td>\n",
       "      <td>0</td>\n",
       "    </tr>\n",
       "    <tr>\n",
       "      <td>2</td>\n",
       "      <td>tim kaine compare donald trump comment russian...</td>\n",
       "      <td>Yamiche Alcindor</td>\n",
       "      <td>senator tim kaine virginia sunday compare dona...</td>\n",
       "      <td>0</td>\n",
       "    </tr>\n",
       "    <tr>\n",
       "      <td>3</td>\n",
       "      <td>revel bounty spring feast yotam ottolenghi new...</td>\n",
       "      <td>Sam Sifton</td>\n",
       "      <td>first thing yotam ottolenghi begin cook feast ...</td>\n",
       "      <td>0</td>\n",
       "    </tr>\n",
       "    <tr>\n",
       "      <td>4</td>\n",
       "      <td>betsy devos education trump tap michigan royal...</td>\n",
       "      <td>Vanessa Friedman, Maggie Haberman and Alan Rap...</td>\n",
       "      <td>donald trump reach western michigan royalty pi...</td>\n",
       "      <td>0</td>\n",
       "    </tr>\n",
       "  </tbody>\n",
       "</table>\n",
       "</div>"
      ],
      "text/plain": [
       "                                               title  \\\n",
       "0  john kerry trip south pole nazi root revisit n...   \n",
       "1  john kerry say side diplomat critical memo syr...   \n",
       "2  tim kaine compare donald trump comment russian...   \n",
       "3  revel bounty spring feast yotam ottolenghi new...   \n",
       "4  betsy devos education trump tap michigan royal...   \n",
       "\n",
       "                                              author  \\\n",
       "0                                             Author   \n",
       "1                                       Mark Landler   \n",
       "2                                   Yamiche Alcindor   \n",
       "3                                         Sam Sifton   \n",
       "4  Vanessa Friedman, Maggie Haberman and Alan Rap...   \n",
       "\n",
       "                                             content  label  \n",
       "0  region usa world secretary state john kerry go...      1  \n",
       "1  washington cabinet member whose department eru...      0  \n",
       "2  senator tim kaine virginia sunday compare dona...      0  \n",
       "3  first thing yotam ottolenghi begin cook feast ...      0  \n",
       "4  donald trump reach western michigan royalty pi...      0  "
      ]
     },
     "execution_count": 7,
     "metadata": {},
     "output_type": "execute_result"
    }
   ],
   "source": [
    "preprocessed_data.head()"
   ]
  },
  {
   "cell_type": "code",
   "execution_count": 13,
   "metadata": {},
   "outputs": [
    {
     "name": "stdout",
     "output_type": "stream",
     "text": [
      "Number of articles in the dataset: 13582\n"
     ]
    }
   ],
   "source": [
    "print(\"Number of articles in the dataset: %d\" % len(preprocessed_data))"
   ]
  },
  {
   "cell_type": "markdown",
   "metadata": {},
   "source": [
    "### Modeling"
   ]
  },
  {
   "cell_type": "markdown",
   "metadata": {},
   "source": [
    "__Naive Bayes Classifier__\n",
    "<br>\n",
    "<br>\n",
    "Naive Bayes classifier models $p(x, y)$. In computing $p(x|y)$, we take a strong assumption that features ($x_{i}'s$) are conditionally independent given y. This assumption is called `Naive Bayes assumption` and the resulting aalgorithm is called `Naive Bayes classifier`. \n",
    "<br>\n",
    "<br>\n",
    "`Model inputs:`\n",
    "<br>\n",
    "- In our model, $x^{(i)}_{j}$ is 1 or 0 depending on whether the $i^{th}$ word is presnt in $j^{th}$ document or not.\n",
    "- $y^{(i)}$ represents whether the document (news) is fake (1) or not (0).\n",
    "<br>\n",
    "\n",
    "`Model parameters:`\n",
    "<br>\n",
    "> <font color=green>$\\phi_{j|y=1} = p(x_{j} = 1 | y = 1)$</font>\n",
    "<br>\n",
    "> <font color=green>$\\phi_{j|y=0} = p(x_{j} = 1 | y = 0)$</font>\n",
    "<br>\n",
    "> <font color=green>$\\phi_{y} = p(y = 1)$</font>"
   ]
  },
  {
   "cell_type": "code",
   "execution_count": 78,
   "metadata": {},
   "outputs": [],
   "source": [
    "\"\"\"Select training and test data size (80% & 20% chosen in this case)\"\"\"\n",
    "nb_train_size = int(0.8 * len(preprocessed_data))\n",
    "nb_test_size = len(preprocessed_data) - nb_train_size\n",
    "\n",
    "\"\"\"Transform the text into document-term matrix using CountVectorizer\"\"\"\n",
    "\"\"\"Binary CountVectorizer represents a word in a binary format i.e. 1 if it is present in the document, 0 if it is not present)\"\"\"\n",
    "nb_vectorizer = CountVectorizer(stop_words='english', min_df=100, binary=True)\n",
    "nb_dtm_matrix = nb_vectorizer.fit_transform(preprocessed_data.content.values)\n",
    "\n",
    "\"\"\"Select training and test data,  we don't need cross validation data as no hyper-params in the model\"\"\"\n",
    "nb_train_data = nb_dtm_matrix[:nb_train_size]\n",
    "nb_train_labels = preprocessed_data.label.values[:nb_train_size]\n",
    "\n",
    "nb_test_data = nb_dtm_matrix[nb_train_size:]\n",
    "nb_test_labels = preprocessed_data.label.values[nb_train_size:]"
   ]
  },
  {
   "cell_type": "code",
   "execution_count": 79,
   "metadata": {},
   "outputs": [
    {
     "data": {
      "text/plain": [
       "<10865x5556 sparse matrix of type '<class 'numpy.int64'>'\n",
       "\twith 2529123 stored elements in Compressed Sparse Row format>"
      ]
     },
     "execution_count": 79,
     "metadata": {},
     "output_type": "execute_result"
    }
   ],
   "source": [
    "nb_train_data"
   ]
  },
  {
   "cell_type": "code",
   "execution_count": 80,
   "metadata": {},
   "outputs": [
    {
     "name": "stdout",
     "output_type": "stream",
     "text": [
      "Training set accuracy score: 0.8237\n",
      "Test set accuracy score: 0.8211\n"
     ]
    }
   ],
   "source": [
    "\"\"\"Fit the Naive Bayes model\"\"\"\n",
    "nb_clf = BernoulliNB()\n",
    "nb_clf.fit(nb_train_data, nb_train_labels)\n",
    "\n",
    "\"\"\"Compute training accuracy score\"\"\"\n",
    "print(\"Training set accuracy score: %.4f\" % nb_clf.score(nb_train_data, nb_train_labels))\n",
    "\n",
    "\"\"\"Predict labels for test documents\"\"\"\n",
    "nb_test_pred = nb_clf.predict(nb_test_data)\n",
    "\n",
    "\"\"\"Compute the test accuracy score\"\"\"\n",
    "print(\"Test set accuracy score: %.4f\" % (np.sum(nb_test_pred == nb_test_labels)/len(nb_test_pred)))"
   ]
  },
  {
   "cell_type": "code",
   "execution_count": 81,
   "metadata": {},
   "outputs": [],
   "source": [
    "def draw_conf_matrix(test_labels, test_pred):\n",
    "    skplt.metrics.plot_confusion_matrix(test_labels, test_pred, figsize=(8, 6), normalize=True, \n",
    "                                        text_fontsize=16)\n",
    "    plt.xlabel(\"Predicted label\")\n",
    "    plt.ylabel(\"True label\")\n",
    "    plt.title(\"Confusion matrix\", fontsize=16)\n",
    "    plt.show()"
   ]
  },
  {
   "cell_type": "code",
   "execution_count": 82,
   "metadata": {},
   "outputs": [
    {
     "data": {
      "image/png": "[encoded data removed]",
      "text/plain": [
       "<Figure size 576x432 with 2 Axes>"
      ]
     },
     "metadata": {},
     "output_type": "display_data"
    },
    {
     "name": "stdout",
     "output_type": "stream",
     "text": [
      "Accuracy score: 0.82\n",
      "Precision: 0.86\n",
      "Recall: 0.76\n"
     ]
    }
   ],
   "source": [
    "\"\"\"1:fake news, 0:true news\"\"\"\n",
    "draw_conf_matrix(nb_test_labels, nb_test_pred)\n",
    "\n",
    "\"\"\"scores\"\"\"\n",
    "accuracy_score = np.sum(nb_test_pred == nb_test_labels)/len(nb_test_labels)\n",
    "precision = np.sum((nb_test_labels == 1) & (nb_test_pred == 1))/np.sum(nb_test_labels == 1)\n",
    "recall = np.sum((nb_test_labels == 1) & (nb_test_pred == 1))/np.sum(nb_test_pred == 1)\n",
    "\n",
    "print(\"Accuracy score: %.2f\" % accuracy_score)\n",
    "print(\"Precision: %.2f\" % precision)\n",
    "print(\"Recall: %.2f\" % recall)"
   ]
  },
  {
   "cell_type": "markdown",
   "metadata": {},
   "source": [
    "``Analysis``\n",
    "\n",
    "> 1. Recall is not so good. Around 24% articles are predicted to be fake but they are not fake.\n",
    "<br>\n",
    "> 2. Precision is relatively good. Out of all fake news articles, 86% of them are correctly classified."
   ]
  },
  {
   "cell_type": "code",
   "execution_count": 83,
   "metadata": {},
   "outputs": [],
   "source": [
    "def find_words_from_indices(clf, vectorizer, indices):\n",
    "    arr = np.zeros(clf.feature_count_.shape[1])\n",
    "\n",
    "    for i in indices:\n",
    "        arr[i] = 1\n",
    "    return vectorizer.inverse_transform(arr)"
   ]
  },
  {
   "cell_type": "code",
   "execution_count": 84,
   "metadata": {},
   "outputs": [],
   "source": [
    "\"\"\"feature probabilities for fake news\"\"\"\n",
    "highest_posterior_prob_indices = np.flip(np.argsort(np.exp(nb_clf.feature_log_prob_)[1]))[:50]"
   ]
  },
  {
   "cell_type": "code",
   "execution_count": 86,
   "metadata": {},
   "outputs": [
    {
     "name": "stdout",
     "output_type": "stream",
     "text": [
      "[array(['america', 'american', 'campaign', 'change', 'clinton', 'come',\n",
      "       'country', 'day', 'donald', 'election', 'fact', 'follow', 'good',\n",
      "       'government', 'help', 'hillary', 'include', 'know', 'leave',\n",
      "       'like', 'long', 'look', 'make', 'mean', 'medium', 'need', 'new',\n",
      "       'news', 'november', 'people', 'point', 'post', 'president',\n",
      "       'report', 'right', 'say', 'share', 'state', 'support', 'tell',\n",
      "       'thing', 'think', 'time', 'trump', 'use', 'want', 'way', 'work',\n",
      "       'world', 'year'], dtype='<U15')]\n"
     ]
    }
   ],
   "source": [
    "\"\"\"Find words with highest posterior probability\"\"\"\n",
    "\"\"\"Highest posterior probability means that if the next news you read is fake news then there is \n",
    "high probability that you will see the following words\"\"\"\n",
    "\n",
    "print(find_words_from_indices(nb_clf, nb_vectorizer, highest_posterior_prob_indices))"
   ]
  },
  {
   "cell_type": "markdown",
   "metadata": {},
   "source": [
    "`Observation`\n",
    "- We can see that trump, president, hillary and election related words have appreared a lot in the fake news since 2016"
   ]
  },
  {
   "cell_type": "markdown",
   "metadata": {},
   "source": [
    "`Ranking of words`\n",
    "<br>\n",
    "- We will create ranking of words using the following formula\n",
    "> <font color=green>$rank = \\frac{\\exp({\\phi_{j|y=1}})}{\\exp({\\phi_{j|y=0}})}$</font>\n",
    "- Highest and lowest ranks can be interpreted as the most indicative words in the classification of the document; highest rank indicate that the news is fake, lowest rank indicate that the news is genuine\n",
    "- We will find the k most indicative tokens, of which k/2 have the highest rank and k/2 have the lowest rank "
   ]
  },
  {
   "cell_type": "code",
   "execution_count": 99,
   "metadata": {},
   "outputs": [],
   "source": [
    "def most_indicative_words(clf, vectorizer, k, print_words=False):\n",
    "    \"\"\"ranking of words in the fake news\"\"\"\n",
    "    rank = np.exp(np.exp(clf.feature_log_prob_)[1])/np.exp(np.exp(clf.feature_log_prob_)[0])\n",
    "\n",
    "    \"\"\"Highest ranking words in the fake news\"\"\"\n",
    "    indices = np.argsort(rank)[-int(k/2):]\n",
    "    highest_ranking_words = find_words_from_indices(clf, vectorizer, indices)\n",
    "    if print_words:\n",
    "        print(\"\\nHighest ranking words in the fake news\")\n",
    "        print(highest_ranking_words[0])\n",
    "\n",
    "    \"\"\"Lowest ranking words in the fake news\"\"\"\n",
    "    indices = np.argsort(rank)[:int(k/2)]\n",
    "    lowest_ranking_words = find_words_from_indices(clf, vectorizer, indices)\n",
    "    if print_words:\n",
    "        print(\"\\nLowest ranking words in the fake news\")\n",
    "        print(lowest_ranking_words[0])\n",
    "\n",
    "    indicative_words = np.append(highest_ranking_words[0], lowest_ranking_words[0])\n",
    "    if print_words:\n",
    "        print(\"\\nAll the indicative words\")\n",
    "        print(indicative_words)\n",
    "    \n",
    "    return indicative_words"
   ]
  },
  {
   "cell_type": "code",
   "execution_count": 106,
   "metadata": {},
   "outputs": [
    {
     "name": "stdout",
     "output_type": "stream",
     "text": [
      "\n",
      "Highest ranking words in the fake news\n",
      "['actually' 'america' 'anti' 'article' 'author' 'cia' 'click' 'clinton'\n",
      " 'com' 'corrupt' 'currently' 'destroy' 'elect' 'election' 'elite'\n",
      " 'establishment' 'fact' 'fbi' 'follow' 'hillary' 'http' 'https' 'launch'\n",
      " 'mainstream' 'massive' 'medium' 'non' 'nov' 'november' 'ongoing' 'org'\n",
      " 'pic' 'podesta' 'post' 'pre' 'pro' 'propaganda' 'regime' 'relate'\n",
      " 'russia' 'self' 'share' 'source' 'today' 'truth' 'usa' 'voting'\n",
      " 'wikileak' 'wikileaks' 'www']\n",
      "\n",
      "Lowest ranking words in the fake news\n",
      "['add' 'ask' 'begin' 'chief' 'city' 'come' 'company' 'day' 'early'\n",
      " 'executive' 'feel' 'group' 'help' 'home' 'include' 'interview' 'know'\n",
      " 'later' 'lead' 'like' 'make' 'member' 'month' 'national' 'new' 'night'\n",
      " 'official' 'people' 'percent' 'plan' 'question' 'recent' 'remain' 'run'\n",
      " 'say' 'set' 'states' 'tell' 'time' 'try' 'turn' 'united' 'university'\n",
      " 'use' 'want' 'way' 'week' 'work' 'year' 'york']\n",
      "\n",
      "All the indicative words\n",
      "['actually' 'america' 'anti' 'article' 'author' 'cia' 'click' 'clinton'\n",
      " 'com' 'corrupt' 'currently' 'destroy' 'elect' 'election' 'elite'\n",
      " 'establishment' 'fact' 'fbi' 'follow' 'hillary' 'http' 'https' 'launch'\n",
      " 'mainstream' 'massive' 'medium' 'non' 'nov' 'november' 'ongoing' 'org'\n",
      " 'pic' 'podesta' 'post' 'pre' 'pro' 'propaganda' 'regime' 'relate'\n",
      " 'russia' 'self' 'share' 'source' 'today' 'truth' 'usa' 'voting'\n",
      " 'wikileak' 'wikileaks' 'www' 'add' 'ask' 'begin' 'chief' 'city' 'come'\n",
      " 'company' 'day' 'early' 'executive' 'feel' 'group' 'help' 'home'\n",
      " 'include' 'interview' 'know' 'later' 'lead' 'like' 'make' 'member'\n",
      " 'month' 'national' 'new' 'night' 'official' 'people' 'percent' 'plan'\n",
      " 'question' 'recent' 'remain' 'run' 'say' 'set' 'states' 'tell' 'time'\n",
      " 'try' 'turn' 'united' 'university' 'use' 'want' 'way' 'week' 'work'\n",
      " 'year' 'york']\n"
     ]
    }
   ],
   "source": [
    "\"\"\"Compute most indicative words using Naive Bayes classifier\"\"\"\n",
    "indicative_words = most_indicative_words(nb_clf, nb_vectorizer, k=100, print_words=True)"
   ]
  },
  {
   "cell_type": "markdown",
   "metadata": {},
   "source": [
    "**Logistic Regression Classifier**\n",
    "\n",
    "``Logistic Regression`` is a linear classifier which uses sigmoid function to predict the probability that a given datapoint belongs to a certain class. In the previous section, we identified \"k\" most informative words for classification of a given document. We will use these words as features in the Logistic Regression."
   ]
  },
  {
   "cell_type": "code",
   "execution_count": 108,
   "metadata": {},
   "outputs": [],
   "source": [
    "\"\"\"Build the document-term matrix by using only indicative words as computed above\"\"\"\n",
    "lr_vectorizer = CountVectorizer(vocabulary=most_indicative_words(nb_clf, nb_vectorizer, k=40))\n",
    "lr_dtm_matrix = lr_vectorizer.fit_transform(preprocessed_data.content.values)\n",
    "\n",
    "\"\"\"Split the training and test data\"\"\"\n",
    "lr_train_data, lr_test_data, lr_train_labels, lr_test_labels = train_test_split(lr_dtm_matrix, \n",
    "                                                                    preprocessed_data.label.values, test_size=0.2)"
   ]
  },
  {
   "cell_type": "code",
   "execution_count": 109,
   "metadata": {},
   "outputs": [],
   "source": [
    "\"\"\"Fit the model\"\"\"\n",
    "LRmodel = LogisticRegression(solver=\"lbfgs\", max_iter=500).fit(lr_train_data, lr_train_labels)\n",
    "\n",
    "\"\"\"Predict the labels on the test set\"\"\"\n",
    "lr_test_pred = LRmodel.predict(lr_test_data)\n",
    "\n",
    "\"\"\"Scores\"\"\"\n",
    "accuracy_score = np.sum(lr_test_pred == lr_test_labels)/len(lr_test_labels)\n",
    "precision = np.sum((lr_test_labels == 1) & (lr_test_pred == 1))/np.sum(lr_test_labels == 1)\n",
    "recall = np.sum((lr_test_labels == 1) & (lr_test_pred == 1))/np.sum(lr_test_pred == 1)"
   ]
  },
  {
   "cell_type": "code",
   "execution_count": 110,
   "metadata": {},
   "outputs": [
    {
     "data": {
      "image/png": "[encoded data removed]",
      "text/plain": [
       "<Figure size 576x432 with 2 Axes>"
      ]
     },
     "metadata": {},
     "output_type": "display_data"
    },
    {
     "name": "stdout",
     "output_type": "stream",
     "text": [
      "Accuracy score: 0.93\n",
      "Precision: 0.93\n",
      "Recall: 0.90\n"
     ]
    }
   ],
   "source": [
    "draw_conf_matrix(lr_test_labels, lr_test_pred)\n",
    "print(\"Accuracy score: %.2f\" % accuracy_score)\n",
    "print(\"Precision: %.2f\" % precision)\n",
    "print(\"Recall: %.2f\" % recall)"
   ]
  },
  {
   "cell_type": "markdown",
   "metadata": {},
   "source": [
    "__SVM Classifier__\n",
    "<br>\n",
    "<br>\n",
    "`Support vector machines (SVM)` find the optimal separating hyperplane in the feature space which maximizes the geometric margin to classify the dataset. The optimization function for SVM can be written as \n",
    "\n",
    "> <font color='green'>$min_{w, b}    \\frac{1}{2}||w||^2 + C\\sum_{i}{\\zeta_i}$</font>\n",
    "<br>\n",
    "> <font color='green'>$s.t.$</font> \n",
    "<br>\n",
    "> <font color='green'>$y^i(w^T x^i + b) >= 1 - \\zeta_i, i = 1,...,m$</font>\n",
    "<br>\n",
    "> <font color='green'>$and$</font> \n",
    "<br>\n",
    "> <font color='green'>$\\zeta_i >= 0, i = 1,...,m$</font>\n",
    "\n",
    "SVM is pretty useful if the feature space is very high dimensional. It uses the kernel trick to efficiently find the optimal solution. I have chosen to use Gaussian kernel based on the idea that the documents which are closer in euclidean distance should belong to the same class. Gaussian kernel (aka `Radial Basis Function`) is defined as\n",
    "\n",
    "> <font color='green'>$K(\\text{x}^i, \\text{x}^j) = -\\lambda \\exp(||\\text{x}^i - \\text{x}^j||^2)$</font>\n",
    "<br>\n",
    "\n",
    "We have two `hyperparameters` - \n",
    "1. <font color='green'>$C$</font> : $C$ is inversely proportional to the strength of regularization\n",
    "2. <font color='green'>$\\lambda$</font> : higher $\\lambda$ means the solution overfits, lower $\\lambda$ means the solution underfits"
   ]
  },
  {
   "cell_type": "code",
   "execution_count": 118,
   "metadata": {},
   "outputs": [],
   "source": [
    "\"\"\"Build the document-term matrix by using 40 most indicative words as per NB classifier\"\"\"\n",
    "svm_vectorizer = CountVectorizer(vocabulary=most_indicative_words(nb_clf, nb_vectorizer, k=60))\n",
    "svm_dtm_matrix = svm_vectorizer.fit_transform(preprocessed_data.content.values)\n",
    "\n",
    "\"\"\"Select training, cross-validation and test data size (70%, 15% & 15% chosen in this case)\"\"\"\n",
    "svm_train_size = int(0.7 * len(preprocessed_data))\n",
    "svm_cv_size = int(0.15 * len(preprocessed_data))\n",
    "\n",
    "\"\"\"Select training, cross-validation and test data\"\"\"\n",
    "svm_train_data = svm_dtm_matrix[:svm_train_size]\n",
    "svm_train_labels = preprocessed_data.label.values[:svm_train_size]\n",
    "\n",
    "svm_cv_data = svm_dtm_matrix[svm_train_size:svm_train_size+svm_cv_size]\n",
    "svm_cv_labels = preprocessed_data.label.values[svm_train_size:svm_train_size+svm_cv_size]\n",
    "\n",
    "svm_test_data = svm_dtm_matrix[svm_train_size+svm_cv_size:]\n",
    "svm_test_labels = preprocessed_data.label.values[svm_train_size+svm_cv_size:]"
   ]
  },
  {
   "cell_type": "code",
   "execution_count": 122,
   "metadata": {},
   "outputs": [],
   "source": [
    "def tune_SVM(C, lambd):\n",
    "    train_scores = []\n",
    "    cv_scores = []\n",
    "    \n",
    "    for c in C:\n",
    "        for l in lambd:\n",
    "            clf = svm.SVC(kernel=\"rbf\", C=c, gamma=l)\n",
    "            clf.fit(svm_train_data, svm_train_labels)\n",
    "            train_scores.append(clf.score(svm_train_data, svm_train_labels))\n",
    "            cv_scores.append(clf.score(svm_cv_data, svm_cv_labels))\n",
    "            \n",
    "    return (train_scores, cv_scores)"
   ]
  },
  {
   "cell_type": "code",
   "execution_count": 129,
   "metadata": {},
   "outputs": [],
   "source": [
    "C = [0.01, 0.1, 10, 100]\n",
    "lambd = [1/1024, 1/512, 1/256, 1/128]\n",
    "\n",
    "time_ = datetime.now()\n",
    "train_scores, cv_scores = tune_SVM(C, lambd)\n",
    "time_ = datetime.now() - time_"
   ]
  },
  {
   "cell_type": "code",
   "execution_count": 130,
   "metadata": {},
   "outputs": [
    {
     "data": {
      "text/plain": [
       "datetime.timedelta(seconds=213, microseconds=741324)"
      ]
     },
     "execution_count": 130,
     "metadata": {},
     "output_type": "execute_result"
    }
   ],
   "source": [
    "time_"
   ]
  },
  {
   "cell_type": "code",
   "execution_count": 131,
   "metadata": {},
   "outputs": [
    {
     "data": {
      "image/png": "[encoded data removed]",
      "text/plain": [
       "<Figure size 864x432 with 1 Axes>"
      ]
     },
     "metadata": {},
     "output_type": "display_data"
    }
   ],
   "source": [
    "fig, ax = plt.subplots(figsize=(12, 6))\n",
    "\n",
    "ax.plot(train_scores)\n",
    "ax.plot(cv_scores)\n",
    "ax.set_xlabel(\"hyper-parameter combination\")\n",
    "ax.set_ylabel(\"training score/cross-validation score\")\n",
    "\n",
    "plt.show()"
   ]
  },
  {
   "cell_type": "markdown",
   "metadata": {},
   "source": [
    "`Analysis:`\n",
    "<br>\n",
    "> 1. We can see that 9th set of hyper-parameters give the best performance on both training and cross-validation dataset. `Best hyper-parameters combination is` <font color=\"green\">$C = 10, \\lambda = 1/1024$.</font>\n",
    "<br>\n",
    "- We will run SVC again for the best hyper-parameters and predict the labels on test set."
   ]
  },
  {
   "cell_type": "code",
   "execution_count": 132,
   "metadata": {},
   "outputs": [],
   "source": [
    "\"\"\"Run classifier with best set of hyper parameters\"\"\"\n",
    "svm_clf = svm.SVC(kernel=\"rbf\", C=10, gamma=1/1024)\n",
    "svm_clf.fit(svm_train_data, svm_train_labels)\n",
    "\n",
    "\"\"\"Predict the labels on the test set\"\"\"\n",
    "svm_test_pred = svm_clf.predict(svm_test_data)\n",
    "\n",
    "\"\"\"Scores\"\"\"\n",
    "accuracy_score = np.sum(svm_test_pred == svm_test_labels)/len(svm_test_labels)\n",
    "precision = np.sum((svm_test_labels == 1) & (svm_test_pred == 1))/np.sum(svm_test_labels == 1)\n",
    "recall = np.sum((svm_test_labels == 1) & (svm_test_pred == 1))/np.sum(svm_test_pred == 1)"
   ]
  },
  {
   "cell_type": "code",
   "execution_count": 133,
   "metadata": {},
   "outputs": [
    {
     "data": {
      "image/png": "[encoded data removed]",
      "text/plain": [
       "<Figure size 576x432 with 2 Axes>"
      ]
     },
     "metadata": {},
     "output_type": "display_data"
    },
    {
     "name": "stdout",
     "output_type": "stream",
     "text": [
      "Accuracy score: 0.93\n",
      "Precision: 0.93\n",
      "Recall: 0.91\n"
     ]
    }
   ],
   "source": [
    "draw_conf_matrix(svm_test_labels, svm_test_pred)\n",
    "print(\"Accuracy score: %.2f\" % accuracy_score)\n",
    "print(\"Precision: %.2f\" % precision)\n",
    "print(\"Recall: %.2f\" % recall)"
   ]
  },
  {
   "cell_type": "markdown",
   "metadata": {},
   "source": [
    "`Observation:`\n",
    "<br>\n",
    "- Performance is very much similar to Logistic Regression.\n",
    "- Recall is much better than Naive Bayes classifier. \n",
    "- Recall is more important than precision for this use case because we don't want to tag true news as fake."
   ]
  },
  {
   "cell_type": "code",
   "execution_count": null,
   "metadata": {},
   "outputs": [],
   "source": []
  }
 ],
 "metadata": {
  "kernelspec": {
   "display_name": "Python 3",
   "language": "python",
   "name": "python3"
  },
  "language_info": {
   "codemirror_mode": {
    "name": "ipython",
    "version": 3
   },
   "file_extension": ".py",
   "mimetype": "text/x-python",
   "name": "python",
   "nbconvert_exporter": "python",
   "pygments_lexer": "ipython3",
   "version": "3.7.4"
  }
 },
 "nbformat": 4,
 "nbformat_minor": 2
}
