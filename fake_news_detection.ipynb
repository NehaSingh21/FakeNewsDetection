{
 "cells": [
  {
   "cell_type": "code",
   "execution_count": 213,
   "metadata": {},
   "outputs": [],
   "source": [
    "%matplotlib inline\n",
    "import pandas as pd\n",
    "import numpy as np\n",
    "from collections import Counter\n",
    "import matplotlib as mpl\n",
    "import matplotlib.pyplot as plt\n",
    "import scikitplot as skplt\n",
    "\n",
    "import nltk\n",
    "from nltk.corpus import stopwords\n",
    "\n",
    "import en_core_web_sm\n",
    "nlp = en_core_web_sm.load()\n",
    "\n",
    "import seaborn as sb\n",
    "\n",
    "import gensim\n",
    "import gensim.corpora as corpora\n",
    "from gensim.utils import simple_preprocess\n",
    "from gensim.models.doc2vec import TaggedDocument \n",
    "from gensim.models import Doc2Vec\n",
    "import logging\n",
    "logging.basicConfig(format='%(asctime)s : %(levelname)s : %(message)s', level=logging.INFO)\n",
    "\n",
    "from sklearn.naive_bayes import BernoulliNB\n",
    "from sklearn.feature_extraction.text import CountVectorizer\n",
    "from sklearn import svm\n",
    "\n",
    "plt.style.use('dark_background')\n",
    "\n",
    "from datetime import datetime\n",
    "import pytz\n",
    "import time\n",
    "\n",
    "import os\n",
    "import pickle"
   ]
  },
  {
   "cell_type": "markdown",
   "metadata": {},
   "source": [
    "### Reading the data"
   ]
  },
  {
   "cell_type": "code",
   "execution_count": 14,
   "metadata": {},
   "outputs": [
    {
     "name": "stdout",
     "output_type": "stream",
     "text": [
      "Raw data read from 'raw_data.pkl'.\n"
     ]
    }
   ],
   "source": [
    "if os.path.isfile(\"data/raw_data.pkl\"): \n",
    "    with open(\"data/raw_data.pkl\", \"br\") as f:\n",
    "        raw_data = pickle.load(f)\n",
    "    print(\"Raw data read from 'raw_data.pkl'.\")\n",
    "else:\n",
    "    fake_news = pd.read_csv(\"data/fake.csv.zip\", parse_dates=['published'])\n",
    "    articles1 = pd.read_csv(\"data/articles1.csv.zip\")\n",
    "    articles2 = pd.read_csv(\"data/articles2.csv.zip\")\n",
    "    articles3 = pd.read_csv(\"data/articles3.csv.zip\")\n",
    "    \n",
    "    true_news = pd.concat([articles1, articles2, articles3])\n",
    "    true_news = true_news[['publication', 'title', 'author', 'content']]\n",
    "    true_news = true_news.loc[true_news.publication.isin(['New York Times'])]\n",
    "    true_news = true_news[['title', 'author', 'content']]\n",
    "    true_news['label'] = 0\n",
    "    \n",
    "    tz = pytz.timezone('America/Chicago')\n",
    "    fake_news = fake_news.loc[fake_news.language == 'english']\n",
    "    fake_news = fake_news.loc[fake_news.published > tz.localize(datetime.strptime('2016-11-01', '%Y-%m-%d'))]\n",
    "    fake_news = fake_news[['title', 'author', 'text']]\n",
    "    fake_news.rename(columns={'text':'content'}, inplace=True)\n",
    "    fake_news['label'] = 1\n",
    "    \n",
    "    raw_data = pd.concat([true_news, fake_news])\n",
    "    raw_data = raw_data.loc[(raw_data.title.isna() == False) & (raw_data.content.isna() == False)]\n",
    "    raw_data = raw_data.sample(frac=1).reset_index(drop=True)\n",
    "    \n",
    "    with open(\"data/raw_data.pkl\", \"bw\") as f:\n",
    "        pickle.dump(raw_data, f)\n",
    "    print(\"Raw data written to 'raw_data.pkl'.\")"
   ]
  },
  {
   "cell_type": "code",
   "execution_count": 15,
   "metadata": {},
   "outputs": [
    {
     "data": {
      "text/html": [
       "<div>\n",
       "<style scoped>\n",
       "    .dataframe tbody tr th:only-of-type {\n",
       "        vertical-align: middle;\n",
       "    }\n",
       "\n",
       "    .dataframe tbody tr th {\n",
       "        vertical-align: top;\n",
       "    }\n",
       "\n",
       "    .dataframe thead th {\n",
       "        text-align: right;\n",
       "    }\n",
       "</style>\n",
       "<table border=\"1\" class=\"dataframe\">\n",
       "  <thead>\n",
       "    <tr style=\"text-align: right;\">\n",
       "      <th></th>\n",
       "      <th>title</th>\n",
       "      <th>author</th>\n",
       "      <th>content</th>\n",
       "      <th>label</th>\n",
       "    </tr>\n",
       "  </thead>\n",
       "  <tbody>\n",
       "    <tr>\n",
       "      <td>0</td>\n",
       "      <td>John Kerry’s Trip to the South Pole: Nazi Root...</td>\n",
       "      <td>Author</td>\n",
       "      <td>Region: USA in the World So why did the US Sec...</td>\n",
       "      <td>1</td>\n",
       "    </tr>\n",
       "    <tr>\n",
       "      <td>1</td>\n",
       "      <td>John Kerry Is Said to Side With Diplomats’ Cri...</td>\n",
       "      <td>Mark Landler</td>\n",
       "      <td>WASHINGTON  —   For a cabinet member whose dep...</td>\n",
       "      <td>0</td>\n",
       "    </tr>\n",
       "    <tr>\n",
       "      <td>2</td>\n",
       "      <td>Tim Kaine Compares Donald Trump’s Comments on ...</td>\n",
       "      <td>Yamiche Alcindor</td>\n",
       "      <td>Senator Tim Kaine of Virginia on Sunday compar...</td>\n",
       "      <td>0</td>\n",
       "    </tr>\n",
       "    <tr>\n",
       "      <td>3</td>\n",
       "      <td>Revel in the Bounty of Spring, With a Feast Fr...</td>\n",
       "      <td>Sam Sifton</td>\n",
       "      <td>The first thing Yotam Ottolenghi did before he...</td>\n",
       "      <td>0</td>\n",
       "    </tr>\n",
       "    <tr>\n",
       "      <td>4</td>\n",
       "      <td>In Betsy DeVos for Education, Trump Taps Into ...</td>\n",
       "      <td>Vanessa Friedman, Maggie Haberman and Alan Rap...</td>\n",
       "      <td>Donald J. Trump has reached into Western Mic...</td>\n",
       "      <td>0</td>\n",
       "    </tr>\n",
       "  </tbody>\n",
       "</table>\n",
       "</div>"
      ],
      "text/plain": [
       "                                               title  \\\n",
       "0  John Kerry’s Trip to the South Pole: Nazi Root...   \n",
       "1  John Kerry Is Said to Side With Diplomats’ Cri...   \n",
       "2  Tim Kaine Compares Donald Trump’s Comments on ...   \n",
       "3  Revel in the Bounty of Spring, With a Feast Fr...   \n",
       "4  In Betsy DeVos for Education, Trump Taps Into ...   \n",
       "\n",
       "                                              author  \\\n",
       "0                                             Author   \n",
       "1                                       Mark Landler   \n",
       "2                                   Yamiche Alcindor   \n",
       "3                                         Sam Sifton   \n",
       "4  Vanessa Friedman, Maggie Haberman and Alan Rap...   \n",
       "\n",
       "                                             content  label  \n",
       "0  Region: USA in the World So why did the US Sec...      1  \n",
       "1  WASHINGTON  —   For a cabinet member whose dep...      0  \n",
       "2  Senator Tim Kaine of Virginia on Sunday compar...      0  \n",
       "3  The first thing Yotam Ottolenghi did before he...      0  \n",
       "4    Donald J. Trump has reached into Western Mic...      0  "
      ]
     },
     "execution_count": 15,
     "metadata": {},
     "output_type": "execute_result"
    }
   ],
   "source": [
    "raw_data.head()"
   ]
  },
  {
   "cell_type": "markdown",
   "metadata": {},
   "source": [
    "### Preprocessing"
   ]
  },
  {
   "cell_type": "code",
   "execution_count": 16,
   "metadata": {},
   "outputs": [],
   "source": [
    "stop_words = stopwords.words('english')\n",
    "\n",
    "def remove_stopwords(corpus):\n",
    "    corpus = [[word for word in simple_preprocess(doc, min_len=3, deacc=True) if word not in stop_words] for doc in corpus]\n",
    "    return [' '.join(word) for word in corpus]\n",
    "\n",
    "def lemmatize(corpus):\n",
    "    corpus = [[token.lemma_ for token in doc] for doc in nlp.pipe(corpus, batch_size=3000, n_threads=-1)]\n",
    "    return [' '.join(word) for word in corpus]"
   ]
  },
  {
   "cell_type": "code",
   "execution_count": 17,
   "metadata": {},
   "outputs": [
    {
     "name": "stdout",
     "output_type": "stream",
     "text": [
      "Preprocessed data written to 'preprocessed_data.pkl'.\n"
     ]
    }
   ],
   "source": [
    "time_ = datetime.now()\n",
    "if os.path.isfile(\"data/preprocessed_data.pkl\"): \n",
    "    with open(\"data/preprocessed_data.pkl\", \"br\") as f:\n",
    "        preprocessed_data = pickle.load(f)\n",
    "    print(\"Preprocessed data read from 'preprocessed_data.pkl'.\")\n",
    "    \n",
    "else:\n",
    "    preprocessed_data = pd.DataFrame(columns=['title', 'author', 'content'], index=raw_data.index)\n",
    "    \n",
    "    preprocessed_data['title'] = remove_stopwords(raw_data.title)\n",
    "    preprocessed_data['content'] = remove_stopwords(raw_data.content)\n",
    "    preprocessed_data['author'] = raw_data.author\n",
    "    preprocessed_data['label'] = raw_data.label\n",
    "    \n",
    "    preprocessed_data['title'] = lemmatize(preprocessed_data.title)\n",
    "    preprocessed_data['content'] = lemmatize(preprocessed_data.content)\n",
    "    \n",
    "    with open(\"data/preprocessed_data.pkl\", \"bw\") as f:\n",
    "        pickle.dump(preprocessed_data, f)\n",
    "    print(\"Preprocessed data written to 'preprocessed_data.pkl'.\")\n",
    "\n",
    "time_ = datetime.now() - time_"
   ]
  },
  {
   "cell_type": "code",
   "execution_count": 18,
   "metadata": {},
   "outputs": [
    {
     "data": {
      "text/plain": [
       "datetime.timedelta(seconds=1611, microseconds=904669)"
      ]
     },
     "execution_count": 18,
     "metadata": {},
     "output_type": "execute_result"
    }
   ],
   "source": [
    "time_"
   ]
  },
  {
   "cell_type": "code",
   "execution_count": 19,
   "metadata": {},
   "outputs": [
    {
     "data": {
      "text/html": [
       "<div>\n",
       "<style scoped>\n",
       "    .dataframe tbody tr th:only-of-type {\n",
       "        vertical-align: middle;\n",
       "    }\n",
       "\n",
       "    .dataframe tbody tr th {\n",
       "        vertical-align: top;\n",
       "    }\n",
       "\n",
       "    .dataframe thead th {\n",
       "        text-align: right;\n",
       "    }\n",
       "</style>\n",
       "<table border=\"1\" class=\"dataframe\">\n",
       "  <thead>\n",
       "    <tr style=\"text-align: right;\">\n",
       "      <th></th>\n",
       "      <th>title</th>\n",
       "      <th>author</th>\n",
       "      <th>content</th>\n",
       "      <th>label</th>\n",
       "    </tr>\n",
       "  </thead>\n",
       "  <tbody>\n",
       "    <tr>\n",
       "      <td>0</td>\n",
       "      <td>john kerry trip south pole nazi root revisit n...</td>\n",
       "      <td>Author</td>\n",
       "      <td>region usa world secretary state john kerry go...</td>\n",
       "      <td>1</td>\n",
       "    </tr>\n",
       "    <tr>\n",
       "      <td>1</td>\n",
       "      <td>john kerry say side diplomat critical memo syr...</td>\n",
       "      <td>Mark Landler</td>\n",
       "      <td>washington cabinet member whose department eru...</td>\n",
       "      <td>0</td>\n",
       "    </tr>\n",
       "    <tr>\n",
       "      <td>2</td>\n",
       "      <td>tim kaine compare donald trump comment russian...</td>\n",
       "      <td>Yamiche Alcindor</td>\n",
       "      <td>senator tim kaine virginia sunday compare dona...</td>\n",
       "      <td>0</td>\n",
       "    </tr>\n",
       "    <tr>\n",
       "      <td>3</td>\n",
       "      <td>revel bounty spring feast yotam ottolenghi new...</td>\n",
       "      <td>Sam Sifton</td>\n",
       "      <td>first thing yotam ottolenghi begin cook feast ...</td>\n",
       "      <td>0</td>\n",
       "    </tr>\n",
       "    <tr>\n",
       "      <td>4</td>\n",
       "      <td>betsy devos education trump tap michigan royal...</td>\n",
       "      <td>Vanessa Friedman, Maggie Haberman and Alan Rap...</td>\n",
       "      <td>donald trump reach western michigan royalty pi...</td>\n",
       "      <td>0</td>\n",
       "    </tr>\n",
       "  </tbody>\n",
       "</table>\n",
       "</div>"
      ],
      "text/plain": [
       "                                               title  \\\n",
       "0  john kerry trip south pole nazi root revisit n...   \n",
       "1  john kerry say side diplomat critical memo syr...   \n",
       "2  tim kaine compare donald trump comment russian...   \n",
       "3  revel bounty spring feast yotam ottolenghi new...   \n",
       "4  betsy devos education trump tap michigan royal...   \n",
       "\n",
       "                                              author  \\\n",
       "0                                             Author   \n",
       "1                                       Mark Landler   \n",
       "2                                   Yamiche Alcindor   \n",
       "3                                         Sam Sifton   \n",
       "4  Vanessa Friedman, Maggie Haberman and Alan Rap...   \n",
       "\n",
       "                                             content  label  \n",
       "0  region usa world secretary state john kerry go...      1  \n",
       "1  washington cabinet member whose department eru...      0  \n",
       "2  senator tim kaine virginia sunday compare dona...      0  \n",
       "3  first thing yotam ottolenghi begin cook feast ...      0  \n",
       "4  donald trump reach western michigan royalty pi...      0  "
      ]
     },
     "execution_count": 19,
     "metadata": {},
     "output_type": "execute_result"
    }
   ],
   "source": [
    "preprocessed_data.head()"
   ]
  },
  {
   "cell_type": "markdown",
   "metadata": {},
   "source": [
    "### Modeling"
   ]
  },
  {
   "cell_type": "markdown",
   "metadata": {},
   "source": [
    "__Naive Bayes Classifier__\n",
    "<br>\n",
    "<br>\n",
    "Naive Bayes classifier models $p(x, y)$. In computing $p(x|y)$, we take a strong assumption that features ($x_{i}'s$) are conditionally independent given y. This assumption is called `Naive Bayes assumption` and the resulting aalgorithm is called `Naive Bayes classifier`. \n",
    "<br>\n",
    "<br>\n",
    "`Model inputs:`\n",
    "<br>\n",
    "- In our model, $x^{(i)}_{j}$ is 1 or 0 depending on whether the $i^{th}$ word is presnt in $j^{th}$ document or not.\n",
    "- $y^{i}$ represents whether the document (news) is fake (1) or not (0).\n",
    "<br>\n",
    "\n",
    "`Model parameters:`\n",
    "<br>\n",
    "> <font color=green>$\\phi_{j|y=1} = p(x_{j} = 1 | y = 1)$</font>\n",
    "<br>\n",
    "> <font color=green>$\\phi_{j|y=0} = p(x_{j} = 1 | y = 0)$</font>\n",
    "<br>\n",
    "> <font color=green>$\\phi_{y} = p(y = 1)$</font>"
   ]
  },
  {
   "cell_type": "code",
   "execution_count": 20,
   "metadata": {},
   "outputs": [],
   "source": [
    "\"\"\"Select training and test data size (80% & 20% chosen in this case)\"\"\"\n",
    "train_size = int(0.8 * len(preprocessed_data))\n",
    "test_size = len(preprocessed_data) - train_size\n",
    "\n",
    "\"\"\"Transform the text into document-term matrix using CountVectorizer\"\"\"\n",
    "\"\"\"Binary CountVectorizer represents a word in a binary format i.e. 1 if it is present, 0 if it is not present in the document)\"\"\"\n",
    "vectorizer = CountVectorizer(stop_words='english', min_df=100, binary=True)\n",
    "dtm_matrix = vectorizer.fit_transform(preprocessed_data.content.values)\n",
    "\n",
    "\"\"\"Select training and test data,  we don't need cross validation data as no hyper-params in the model\"\"\"\n",
    "train_data = dtm_matrix[:train_size]\n",
    "train_labels = preprocessed_data.label.values[:train_size]\n",
    "\n",
    "test_data = dtm_matrix[train_size:]\n",
    "test_labels = preprocessed_data.label.values[train_size:]"
   ]
  },
  {
   "cell_type": "code",
   "execution_count": 21,
   "metadata": {},
   "outputs": [
    {
     "data": {
      "text/plain": [
       "<10865x5556 sparse matrix of type '<class 'numpy.int64'>'\n",
       "\twith 2529123 stored elements in Compressed Sparse Row format>"
      ]
     },
     "execution_count": 21,
     "metadata": {},
     "output_type": "execute_result"
    }
   ],
   "source": [
    "train_data"
   ]
  },
  {
   "cell_type": "code",
   "execution_count": 208,
   "metadata": {},
   "outputs": [
    {
     "name": "stdout",
     "output_type": "stream",
     "text": [
      "Training accuracy score: 0.8237\n",
      "Training accuracy score: 0.8211\n"
     ]
    }
   ],
   "source": [
    "\"\"\"Fit the Naive Bayes model\"\"\"\n",
    "nb_clf = BernoulliNB()\n",
    "nb_clf.fit(train_data, train_labels)\n",
    "\n",
    "\"\"\"Compute training accuracy score\"\"\"\n",
    "print(\"Training accuracy score: %.4f\" % nb_clf.score(train_data, train_labels))\n",
    "\n",
    "\"\"\"Predict labels for test documents\"\"\"\n",
    "test_pred = nb_clf.predict(test_data)\n",
    "\n",
    "\"\"\"Compute the test accuracy score\"\"\"\n",
    "print(\"Training accuracy score: %.4f\" % (np.sum(test_pred == test_labels)/len(test_pred)))"
   ]
  },
  {
   "cell_type": "code",
   "execution_count": 211,
   "metadata": {},
   "outputs": [],
   "source": [
    "def draw_conf_matrix(test_labels, test_pred):\n",
    "    skplt.metrics.plot_confusion_matrix(test_labels, test_pred, figsize=(8, 6), normalize=True)\n",
    "    plt.show()"
   ]
  },
  {
   "cell_type": "code",
   "execution_count": 212,
   "metadata": {},
   "outputs": [
    {
     "data": {
      "image/png": "[encoded data removed]",
      "text/plain": [
       "<Figure size 576x432 with 2 Axes>"
      ]
     },
     "metadata": {},
     "output_type": "display_data"
    }
   ],
   "source": [
    "draw_conf_matrix(test_labels, test_pred)"
   ]
  },
  {
   "cell_type": "code",
   "execution_count": 210,
   "metadata": {},
   "outputs": [],
   "source": [
    "def find_words_from_indices(indices):\n",
    "    arr = np.zeros(nb_clf.feature_count_.shape[1])\n",
    "\n",
    "    for i in indices:\n",
    "        arr[i] = 1\n",
    "    return vectorizer.inverse_transform(arr)"
   ]
  },
  {
   "cell_type": "code",
   "execution_count": 73,
   "metadata": {},
   "outputs": [],
   "source": [
    "\"\"\"feature probabilities for fake news\"\"\"\n",
    "highest_posterior_prob_indices = np.flip(np.argsort(np.exp(nb_clf.feature_log_prob_)[1]))[:20]"
   ]
  },
  {
   "cell_type": "code",
   "execution_count": 192,
   "metadata": {},
   "outputs": [
    {
     "name": "stdout",
     "output_type": "stream",
     "text": [
      "[array(['come', 'day', 'election', 'know', 'like', 'make', 'new',\n",
      "       'november', 'people', 'president', 'right', 'say', 'state', 'time',\n",
      "       'trump', 'use', 'way', 'work', 'world', 'year'], dtype='<U15')]\n"
     ]
    }
   ],
   "source": [
    "\"\"\"Find words with highest posterior probability\"\"\"\n",
    "\"\"\"Highest posterior probability means that if the next news you read is fake news then there is \n",
    "high probability that you will see the following words\"\"\"\n",
    "\n",
    "print(find_words_from_indices(highest_posterior_prob_indices))"
   ]
  },
  {
   "cell_type": "markdown",
   "metadata": {},
   "source": [
    "`Observation`\n",
    "- We can see that trump, president and state has appreared a lot in the fake news"
   ]
  },
  {
   "cell_type": "markdown",
   "metadata": {},
   "source": [
    "`Ranking of words`\n",
    "<br>\n",
    "- We will create ranking of words using the following formula\n",
    "> <font color=green>$rank = \\frac{\\exp({\\phi_{j|y=1}})}{\\exp({\\phi_{j|y=0}})}$</font>\n",
    "- Highest and lowest ranks can be interpreted as the most indicative words in the classification of the document; highest rank indicate that the news is fake, lowest rank indicate that the news is genuine\n",
    "- We will find the k most indicative tokens, of which k/2 have the highest rank and k/2 have the lowest rank "
   ]
  },
  {
   "cell_type": "code",
   "execution_count": 199,
   "metadata": {},
   "outputs": [
    {
     "name": "stdout",
     "output_type": "stream",
     "text": [
      "\n",
      "Highest ranking words in the fake news\n",
      "[array(['anti', 'article', 'cia', 'click', 'clinton', 'com', 'corrupt',\n",
      "       'currently', 'destroy', 'elect', 'election', 'establishment',\n",
      "       'fact', 'fbi', 'hillary', 'http', 'mainstream', 'massive',\n",
      "       'medium', 'non', 'november', 'post', 'propaganda', 'regime',\n",
      "       'self', 'share', 'source', 'truth', 'usa', 'wikileak'],\n",
      "      dtype='<U15')]\n",
      "\n",
      "Lowest ranking words in the fake news\n",
      "[array(['add', 'ask', 'begin', 'city', 'come', 'day', 'early', 'executive',\n",
      "       'group', 'help', 'include', 'interview', 'know', 'later', 'like',\n",
      "       'make', 'month', 'new', 'official', 'people', 'say', 'states',\n",
      "       'time', 'try', 'united', 'want', 'week', 'work', 'year', 'york'],\n",
      "      dtype='<U15')]\n"
     ]
    }
   ],
   "source": [
    "\"\"\"ranking of words in the fake news\"\"\"\n",
    "k = 60\n",
    "rank = np.exp(np.exp(nb_clf.feature_log_prob_)[1])/np.exp(np.exp(nb_clf.feature_log_prob_)[0])\n",
    "\n",
    "\"\"\"Highest ranking words in the fake news\"\"\"\n",
    "indices = np.argsort(rank)[-int(k/2):]\n",
    "print(\"\\nHighest ranking words in the fake news\")\n",
    "print(find_words_from_indices(indices))\n",
    "\n",
    "\"\"\"Lowest ranking words in the fake news\"\"\"\n",
    "indices = np.argsort(rank)[:int(k/2)]\n",
    "print(\"\\nLowest ranking words in the fake news\")\n",
    "print(find_words_from_indices(indices))"
   ]
  },
  {
   "cell_type": "markdown",
   "metadata": {},
   "source": [
    "`Observation:`\n",
    "<br>\n",
    "- We can see that fake articles tend to use more radical words"
   ]
  },
  {
   "cell_type": "markdown",
   "metadata": {},
   "source": [
    "__SVM Classifier__\n",
    "<br>\n",
    "<br>\n",
    "`Support vector machines (SVM)` find the optimal hyperplane in the feature space to classify the dataset. SVM can be pretty useful if the feature space is very high dimensional. It uses the kernel trick to efficiently find the optimal solution. I have chosen to use Gaussian kernel based on the idea that the documents which are closer in euclidean distance should belong to the same class. Gaussian kernel (aka `Radial Basis Function`) is defined as\n",
    "\n",
    "> <font color='green'>$K(\\text{x}^i, \\text{x}^j) = -\\lambda \\exp(||\\text{x}^i - \\text{x}^j||^2)$</font>\n",
    "<br>\n",
    "\n",
    "We have two `hyperparameters` - \n",
    "1. <font color='green'>$C$</font> : $C$ is inversely proportional to the strength of regularization\n",
    "2. <font color='green'>$\\lambda$</font> : higher $\\lambda$ means the solution overfits, lower $\\lambda$ means the solution underfits"
   ]
  },
  {
   "cell_type": "code",
   "execution_count": 214,
   "metadata": {},
   "outputs": [],
   "source": [
    "\"\"\"Select training, cross-validation and test data size (70%, 15% & 15% chosen in this case)\"\"\"\n",
    "train_size = int(0.7 * len(preprocessed_data))\n",
    "cv_size = int(0.15 * len(preprocessed_data))\n",
    "\n",
    "\"\"\"Select training, cross-validation and test data\"\"\"\n",
    "train_data = dtm_matrix[:train_size]\n",
    "train_labels = preprocessed_data.label.values[:train_size]\n",
    "\n",
    "cv_data = dtm_matrix[train_size:train_size+cv_size]\n",
    "cv_labels = preprocessed_data.label.values[train_size:train_size+cv_size]\n",
    "\n",
    "test_data = dtm_matrix[train_size+cv_size:]\n",
    "test_labels = preprocessed_data.label.values[train_size+cv_size:]"
   ]
  },
  {
   "cell_type": "code",
   "execution_count": 254,
   "metadata": {},
   "outputs": [],
   "source": [
    "C = [0.1, 1]\n",
    "lam = [1/64]"
   ]
  },
  {
   "cell_type": "code",
   "execution_count": null,
   "metadata": {},
   "outputs": [],
   "source": [
    "time_ = datetime.now()\n",
    "train_res = []\n",
    "cv_res = []\n",
    "for c in C:\n",
    "    for l in lam:\n",
    "        clf = svm.SVC(kernel=\"rbf\", C=c, gamma=l)\n",
    "        clf.fit(train_data, train_labels)\n",
    "        train_res.append(clf.score(train_data, train_labels))\n",
    "        cv_res.append(clf.score(cv_data, cv_labels))\n",
    "        \n",
    "time_ = datetime.now() - time_"
   ]
  },
  {
   "cell_type": "code",
   "execution_count": 250,
   "metadata": {},
   "outputs": [
    {
     "data": {
      "text/plain": [
       "datetime.timedelta(seconds=9, microseconds=367007)"
      ]
     },
     "execution_count": 250,
     "metadata": {},
     "output_type": "execute_result"
    }
   ],
   "source": [
    "time_/60"
   ]
  },
  {
   "cell_type": "code",
   "execution_count": 251,
   "metadata": {},
   "outputs": [
    {
     "data": {
      "text/plain": [
       "[0.9998948143473231]"
      ]
     },
     "execution_count": 251,
     "metadata": {},
     "output_type": "execute_result"
    }
   ],
   "source": [
    "train_res"
   ]
  },
  {
   "cell_type": "code",
   "execution_count": 252,
   "metadata": {},
   "outputs": [
    {
     "data": {
      "text/plain": [
       "[0.6013745704467354]"
      ]
     },
     "execution_count": 252,
     "metadata": {},
     "output_type": "execute_result"
    }
   ],
   "source": [
    "cv_res"
   ]
  },
  {
   "cell_type": "code",
   "execution_count": 222,
   "metadata": {},
   "outputs": [
    {
     "data": {
      "text/plain": [
       "0.9646712463199215"
      ]
     },
     "execution_count": 222,
     "metadata": {},
     "output_type": "execute_result"
    }
   ],
   "source": [
    "test_pred = clf.predict(test_data)\n",
    "np.sum(test_pred == test_labels)/len(test_pred)"
   ]
  },
  {
   "cell_type": "code",
   "execution_count": 223,
   "metadata": {},
   "outputs": [
    {
     "data": {
      "text/plain": [
       "0.9710358370152185"
      ]
     },
     "execution_count": 223,
     "metadata": {},
     "output_type": "execute_result"
    }
   ],
   "source": [
    "cv_pred = clf.predict(cv_data)\n",
    "np.sum(cv_pred == cv_labels)/len(cv_pred)"
   ]
  },
  {
   "cell_type": "code",
   "execution_count": 220,
   "metadata": {},
   "outputs": [
    {
     "data": {
      "image/png": "[encoded data removed]",
      "text/plain": [
       "<Figure size 576x432 with 2 Axes>"
      ]
     },
     "metadata": {},
     "output_type": "display_data"
    }
   ],
   "source": [
    "draw_conf_matrix(cv_labels, cv_pred)"
   ]
  },
  {
   "cell_type": "code",
   "execution_count": null,
   "metadata": {},
   "outputs": [],
   "source": []
  }
 ],
 "metadata": {
  "kernelspec": {
   "display_name": "Python 3",
   "language": "python",
   "name": "python3"
  },
  "language_info": {
   "codemirror_mode": {
    "name": "ipython",
    "version": 3
   },
   "file_extension": ".py",
   "mimetype": "text/x-python",
   "name": "python",
   "nbconvert_exporter": "python",
   "pygments_lexer": "ipython3",
   "version": "3.7.4"
  }
 },
 "nbformat": 4,
 "nbformat_minor": 2
}
